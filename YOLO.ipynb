{
  "nbformat": 4,
  "nbformat_minor": 0,
  "metadata": {
    "colab": {
      "name": "YOLO.ipynb",
      "provenance": [],
      "collapsed_sections": []
    },
    "kernelspec": {
      "name": "python3",
      "display_name": "Python 3"
    },
    "accelerator": "GPU",
    "language_info": {
      "name": "python"
    }
  },
  "cells": [
    {
      "cell_type": "code",
      "metadata": {
        "id": "pDYG9S-COq5x",
        "colab": {
          "base_uri": "https://localhost:8080/"
        },
        "outputId": "2b8b6ccf-3b60-427b-8978-c52d2255637f"
      },
      "source": [
        "from google.colab import drive\n",
        "drive.mount('/content/drive')"
      ],
      "execution_count": 1,
      "outputs": [
        {
          "output_type": "stream",
          "name": "stdout",
          "text": [
            "Mounted at /content/drive\n"
          ]
        }
      ]
    },
    {
      "cell_type": "code",
      "source": [
        ""
      ],
      "metadata": {
        "id": "An1oXwVE13o5"
      },
      "execution_count": null,
      "outputs": []
    },
    {
      "cell_type": "markdown",
      "source": [
        "# Installing Darknet "
      ],
      "metadata": {
        "id": "Vn_nuJ3L16rj"
      }
    },
    {
      "cell_type": "code",
      "source": [
        "!git clone https://github.com/AlexeyAB/darknet.git"
      ],
      "metadata": {
        "id": "o2DbRPxgUYn4"
      },
      "execution_count": null,
      "outputs": []
    },
    {
      "cell_type": "code",
      "metadata": {
        "id": "9Z8oUH4vO3BS",
        "colab": {
          "base_uri": "https://localhost:8080/"
        },
        "outputId": "b6d68703-71c4-4b3e-9c6e-b006857da3b5"
      },
      "source": [
        "cd /content/drive/My Drive/darknet-master"
      ],
      "execution_count": 2,
      "outputs": [
        {
          "output_type": "stream",
          "name": "stdout",
          "text": [
            "/content/drive/My Drive/darknet-master\n"
          ]
        }
      ]
    },
    {
      "cell_type": "code",
      "metadata": {
        "id": "gLM8u8aVO3LV",
        "colab": {
          "base_uri": "https://localhost:8080/"
        },
        "outputId": "411e6925-09e7-45de-ded0-0af8a2833931"
      },
      "source": [
        "! make"
      ],
      "execution_count": 3,
      "outputs": [
        {
          "output_type": "stream",
          "name": "stdout",
          "text": [
            "chmod +x *.sh\n"
          ]
        }
      ]
    },
    {
      "cell_type": "code",
      "metadata": {
        "id": "mFe5oCq3O3Rs"
      },
      "source": [
        "!chmod 755 ./darknet"
      ],
      "execution_count": 5,
      "outputs": []
    },
    {
      "cell_type": "code",
      "metadata": {
        "id": "1N6pfdNrO3X9",
        "colab": {
          "base_uri": "https://localhost:8080/"
        },
        "outputId": "71c7621e-d2d3-4dc0-f14f-e03b79d2a34f"
      },
      "source": [
        "!./darknet"
      ],
      "execution_count": 6,
      "outputs": [
        {
          "output_type": "stream",
          "name": "stdout",
          "text": [
            "usage: ./darknet <function>\n"
          ]
        }
      ]
    },
    {
      "cell_type": "code",
      "source": [
        ""
      ],
      "metadata": {
        "id": "mqWKgx3t0t9r"
      },
      "execution_count": null,
      "outputs": []
    },
    {
      "cell_type": "markdown",
      "source": [
        "# My dataset are in this file that why I have change the path for this folder and then I will run Process.py file to split the dataset into train and test set"
      ],
      "metadata": {
        "id": "V4KsPqCv2LMx"
      }
    },
    {
      "cell_type": "code",
      "metadata": {
        "id": "9BiAaobURaQH",
        "colab": {
          "base_uri": "https://localhost:8080/"
        },
        "outputId": "51f93c8a-0e68-415c-bc17-64742cd1d2c9"
      },
      "source": [
        "cd /content/drive/My Drive/YOLO-Annotation-Tool-master"
      ],
      "execution_count": null,
      "outputs": [
        {
          "output_type": "stream",
          "name": "stdout",
          "text": [
            "/content/drive/My Drive/YOLO-Annotation-Tool-master\n"
          ]
        }
      ]
    },
    {
      "cell_type": "code",
      "metadata": {
        "id": "7dHQGii4RaSj"
      },
      "source": [
        "! python process.py"
      ],
      "execution_count": null,
      "outputs": []
    },
    {
      "cell_type": "code",
      "metadata": {
        "id": "UXQVx23CRaVT"
      },
      "source": [
        ""
      ],
      "execution_count": null,
      "outputs": []
    },
    {
      "cell_type": "code",
      "metadata": {
        "id": "NoRvge_2RadD",
        "colab": {
          "base_uri": "https://localhost:8080/"
        },
        "outputId": "4efd74cb-ac36-43b1-83bc-8a5a46f3681a"
      },
      "source": [
        "cd /content/drive/My Drive/darknet-master"
      ],
      "execution_count": null,
      "outputs": [
        {
          "output_type": "stream",
          "name": "stdout",
          "text": [
            "/content/drive/My Drive/darknet-master\n"
          ]
        }
      ]
    },
    {
      "cell_type": "code",
      "source": [
        ""
      ],
      "metadata": {
        "id": "HudhgVxG0yj8"
      },
      "execution_count": null,
      "outputs": []
    },
    {
      "cell_type": "markdown",
      "source": [
        "#This is the command we have to run to train the YOLO Model. The model will be save in backup file. To start training, YOLOv2 requires a set of convolutional weights. To make things a little easier, darknet53.conv.74 are the pre train weight trained on Imagenet.\n",
        "\n",
        "# If the training stops due to some reason you can resume it from where it stops with the following command. \n",
        "\n",
        "`!./darknet detector train cfg/obj.data cfg/yolo-obj.cfg backup/yolo-obj_last.weights -dont_show`"
      ],
      "metadata": {
        "id": "Tgzkjvqr2csP"
      }
    },
    {
      "cell_type": "code",
      "source": [
        ""
      ],
      "metadata": {
        "id": "XqgTSFYh4aNe"
      },
      "execution_count": null,
      "outputs": []
    },
    {
      "cell_type": "code",
      "metadata": {
        "id": "MIFg5EVFO3cb"
      },
      "source": [
        "!./darknet detector train cfg/obj.data cfg/yolo-obj.cfg darknet53.conv.74 -dont_show"
      ],
      "execution_count": null,
      "outputs": []
    },
    {
      "cell_type": "code",
      "source": [
        ""
      ],
      "metadata": {
        "id": "Ve-c55-1nbEO"
      },
      "execution_count": null,
      "outputs": []
    },
    {
      "cell_type": "markdown",
      "source": [
        "#This is the command use to test on images where you have to add your weights and in the last the path of the image and the predicted image will be store in with the name as prediction.jpg\n"
      ],
      "metadata": {
        "id": "zUCYv4Ps444e"
      }
    },
    {
      "cell_type": "code",
      "metadata": {
        "id": "KPmcw6vQO3kg",
        "colab": {
          "base_uri": "https://localhost:8080/"
        },
        "outputId": "355ce30a-3371-40e2-c518-9f8dd8e0ec46"
      },
      "source": [
        "!./darknet detector test cfg/obj.data cfg/yolo-obj.cfg backup/yolo-obj_14000.weights person.jpeg"
      ],
      "execution_count": 7,
      "outputs": [
        {
          "output_type": "stream",
          "name": "stdout",
          "text": [
            "   layer   filters  size/strd(dil)      input                output\n",
            "   0 conv     16       3 x 3/ 1    416 x 416 x   3 ->  416 x 416 x  16 0.150 BF\n",
            "   1 max                2x 2/ 2    416 x 416 x  16 ->  208 x 208 x  16 0.003 BF\n",
            "   2 conv     32       3 x 3/ 1    208 x 208 x  16 ->  208 x 208 x  32 0.399 BF\n",
            "   3 max                2x 2/ 2    208 x 208 x  32 ->  104 x 104 x  32 0.001 BF\n",
            "   4 conv     64       3 x 3/ 1    104 x 104 x  32 ->  104 x 104 x  64 0.399 BF\n",
            "   5 max                2x 2/ 2    104 x 104 x  64 ->   52 x  52 x  64 0.001 BF\n",
            "   6 conv    128       3 x 3/ 1     52 x  52 x  64 ->   52 x  52 x 128 0.399 BF\n",
            "   7 max                2x 2/ 2     52 x  52 x 128 ->   26 x  26 x 128 0.000 BF\n",
            "   8 conv    256       3 x 3/ 1     26 x  26 x 128 ->   26 x  26 x 256 0.399 BF\n",
            "   9 max                2x 2/ 2     26 x  26 x 256 ->   13 x  13 x 256 0.000 BF\n",
            "  10 conv    512       3 x 3/ 1     13 x  13 x 256 ->   13 x  13 x 512 0.399 BF\n",
            "  11 max                2x 2/ 1     13 x  13 x 512 ->   13 x  13 x 512 0.000 BF\n",
            "  12 conv   1024       3 x 3/ 1     13 x  13 x 512 ->   13 x  13 x1024 1.595 BF\n",
            "  13 conv   1024       3 x 3/ 1     13 x  13 x1024 ->   13 x  13 x1024 3.190 BF\n",
            "  14 conv     35       1 x 1/ 1     13 x  13 x1024 ->   13 x  13 x  35 0.012 BF\n",
            "  15 detection\n",
            "mask_scale: Using default '1.000000'\n",
            "Total BFLOPS 6.946 \n",
            " Allocate additional workspace_size = 104.86 MB \n",
            "Loading weights from backup/yolo-obj_14000.weights...\n",
            " seen 64 \n",
            "Done! Loaded 16 layers from weights-file \n",
            "person.jpeg: Predicted in 6.391000 milli-seconds.\n",
            "Person: 87%\n",
            "Unable to init server: Could not connect: Connection refused\n",
            "\n",
            "(predictions:318): Gtk-\u001b[1;33mWARNING\u001b[0m **: \u001b[34m20:03:32.705\u001b[0m: cannot open display: \n"
          ]
        }
      ]
    },
    {
      "cell_type": "code",
      "source": [
        ""
      ],
      "metadata": {
        "id": "Hhlt74Y-tnHD"
      },
      "execution_count": null,
      "outputs": []
    }
  ]
}